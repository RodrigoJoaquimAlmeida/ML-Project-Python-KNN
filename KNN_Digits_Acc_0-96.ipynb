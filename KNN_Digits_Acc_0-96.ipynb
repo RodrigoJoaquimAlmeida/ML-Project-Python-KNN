{
 "cells": [
  {
   "cell_type": "code",
   "execution_count": 1,
   "id": "818c4676",
   "metadata": {},
   "outputs": [
    {
     "name": "stdout",
     "output_type": "stream",
     "text": [
      "Requirement already satisfied: scikit-learn in c:\\users\\usuario\\anaconda3\\lib\\site-packages (1.2.2)\n",
      "Requirement already satisfied: numpy>=1.17.3 in c:\\users\\usuario\\anaconda3\\lib\\site-packages (from scikit-learn) (1.24.3)\n",
      "Requirement already satisfied: scipy>=1.3.2 in c:\\users\\usuario\\anaconda3\\lib\\site-packages (from scikit-learn) (1.11.1)\n",
      "Requirement already satisfied: joblib>=1.1.1 in c:\\users\\usuario\\anaconda3\\lib\\site-packages (from scikit-learn) (1.2.0)\n",
      "Requirement already satisfied: threadpoolctl>=2.0.0 in c:\\users\\usuario\\anaconda3\\lib\\site-packages (from scikit-learn) (2.2.0)\n",
      "Note: you may need to restart the kernel to use updated packages.\n"
     ]
    }
   ],
   "source": [
    "pip install scikit-learn"
   ]
  },
  {
   "cell_type": "code",
   "execution_count": 2,
   "id": "b9ab645f",
   "metadata": {},
   "outputs": [],
   "source": [
    "import numpy as np\n",
    "import pandas as pd\n",
    "from sklearn.metrics import confusion_matrix\n",
    "from sklearn.model_selection import train_test_split\n",
    "from sklearn.neighbors import KNeighborsClassifier\n",
    "from sklearn.metrics import classification_report\n",
    "import matplotlib.pyplot as plt\n",
    "import warnings\n",
    "warnings.filterwarnings('ignore')"
   ]
  },
  {
   "cell_type": "code",
   "execution_count": 3,
   "id": "e83b851f",
   "metadata": {},
   "outputs": [],
   "source": [
    "digitos = pd.read_csv('train.csv', sep=',')"
   ]
  },
  {
   "cell_type": "code",
   "execution_count": 5,
   "id": "b313bf43",
   "metadata": {},
   "outputs": [],
   "source": [
    "y = digitos.iloc[:,:1]\n",
    "\n",
    "x = digitos.iloc[:,1:]"
   ]
  },
  {
   "cell_type": "code",
   "execution_count": 6,
   "id": "83536792",
   "metadata": {},
   "outputs": [
    {
     "name": "stdout",
     "output_type": "stream",
     "text": [
      "(42000, 784) (42000, 1)\n"
     ]
    }
   ],
   "source": [
    "print(x.shape, y.shape)"
   ]
  },
  {
   "cell_type": "code",
   "execution_count": 7,
   "id": "edb180a3",
   "metadata": {},
   "outputs": [],
   "source": [
    "X_treino, testeData, Y_treino, testeLabels = train_test_split(x, y, test_size=0.3)"
   ]
  },
  {
   "cell_type": "code",
   "execution_count": 8,
   "id": "49dd9042",
   "metadata": {},
   "outputs": [],
   "source": [
    "treinoData, ValidData, treinoLabels, validLabels = train_test_split(X_treino, Y_treino, test_size=0.1)"
   ]
  },
  {
   "cell_type": "code",
   "execution_count": 9,
   "id": "5e686d54",
   "metadata": {},
   "outputs": [
    {
     "name": "stdout",
     "output_type": "stream",
     "text": [
      "Treino: 26460\n",
      "Validação: 2940\n",
      "Teste: 12600\n"
     ]
    }
   ],
   "source": [
    "print(f'Treino: {len(treinoLabels)}')\n",
    "print(f'Validação: {len(validLabels)}')\n",
    "print(f'Teste: {len(testeLabels)}')"
   ]
  },
  {
   "cell_type": "code",
   "execution_count": 10,
   "id": "974260eb",
   "metadata": {},
   "outputs": [],
   "source": [
    "x_norm = np.mean(x, axis=0)\n",
    "\n",
    "x_treino_norm = treinoData - x_norm\n",
    "x_valid_norm = ValidData - x_norm\n",
    "x_teste_norm = testeData - x_norm"
   ]
  },
  {
   "cell_type": "code",
   "execution_count": 11,
   "id": "7da1186e",
   "metadata": {},
   "outputs": [
    {
     "name": "stdout",
     "output_type": "stream",
     "text": [
      "(26460, 784) (2940, 784) (12600, 784)\n"
     ]
    }
   ],
   "source": [
    "print(x_treino_norm.shape, x_valid_norm.shape, x_teste_norm.shape)"
   ]
  },
  {
   "cell_type": "code",
   "execution_count": 12,
   "id": "0a4b4688",
   "metadata": {},
   "outputs": [],
   "source": [
    "kVals = range(1, 30, 2)"
   ]
  },
  {
   "cell_type": "code",
   "execution_count": 13,
   "id": "4257479f",
   "metadata": {},
   "outputs": [],
   "source": [
    "acuracias = []"
   ]
  },
  {
   "cell_type": "code",
   "execution_count": 14,
   "id": "26f63412",
   "metadata": {},
   "outputs": [
    {
     "name": "stdout",
     "output_type": "stream",
     "text": [
      "Com valor de k = 1, acurácia de 96.26%\n",
      "Com valor de k = 3, acurácia de 96.05%\n",
      "Com valor de k = 5, acurácia de 96.05%\n",
      "Com valor de k = 7, acurácia de 95.85%\n",
      "Com valor de k = 9, acurácia de 95.48%\n",
      "Com valor de k = 11, acurácia de 95.27%\n",
      "Com valor de k = 13, acurácia de 94.9%\n",
      "Com valor de k = 15, acurácia de 94.9%\n",
      "Com valor de k = 17, acurácia de 94.69%\n",
      "Com valor de k = 19, acurácia de 94.56%\n",
      "Com valor de k = 21, acurácia de 94.63%\n",
      "Com valor de k = 23, acurácia de 94.63%\n",
      "Com valor de k = 25, acurácia de 94.42%\n",
      "Com valor de k = 27, acurácia de 94.46%\n",
      "Com valor de k = 29, acurácia de 94.18%\n"
     ]
    }
   ],
   "source": [
    "for k in kVals:\n",
    "    modeloKNN = KNeighborsClassifier(n_neighbors=k)\n",
    "    modeloKNN.fit(treinoData, treinoLabels)\n",
    "    score = modeloKNN.score(ValidData.values, validLabels)\n",
    "    print(f'Com valor de k = {k}, acurácia de {round(score * 100, 2)}%')\n",
    "    acuracias.append(score)"
   ]
  },
  {
   "cell_type": "code",
   "execution_count": 15,
   "id": "aa56a425",
   "metadata": {},
   "outputs": [
    {
     "name": "stdout",
     "output_type": "stream",
     "text": [
      "O valor de K = 1 alcançou acurácia de 96.26% nos dados de validação\n"
     ]
    }
   ],
   "source": [
    "i = np.argmax(acuracias)\n",
    "print(f'O valor de K = {kVals[i]} alcançou acurácia de {round(acuracias[i] * 100, 2)}% nos dados de validação')"
   ]
  },
  {
   "cell_type": "code",
   "execution_count": 16,
   "id": "feaa4ac3",
   "metadata": {},
   "outputs": [],
   "source": [
    "modeloFinal = KNeighborsClassifier(n_neighbors=kVals[i])"
   ]
  },
  {
   "cell_type": "code",
   "execution_count": 17,
   "id": "e3167d37",
   "metadata": {},
   "outputs": [
    {
     "data": {
      "text/html": [
       "<style>#sk-container-id-1 {color: black;background-color: white;}#sk-container-id-1 pre{padding: 0;}#sk-container-id-1 div.sk-toggleable {background-color: white;}#sk-container-id-1 label.sk-toggleable__label {cursor: pointer;display: block;width: 100%;margin-bottom: 0;padding: 0.3em;box-sizing: border-box;text-align: center;}#sk-container-id-1 label.sk-toggleable__label-arrow:before {content: \"▸\";float: left;margin-right: 0.25em;color: #696969;}#sk-container-id-1 label.sk-toggleable__label-arrow:hover:before {color: black;}#sk-container-id-1 div.sk-estimator:hover label.sk-toggleable__label-arrow:before {color: black;}#sk-container-id-1 div.sk-toggleable__content {max-height: 0;max-width: 0;overflow: hidden;text-align: left;background-color: #f0f8ff;}#sk-container-id-1 div.sk-toggleable__content pre {margin: 0.2em;color: black;border-radius: 0.25em;background-color: #f0f8ff;}#sk-container-id-1 input.sk-toggleable__control:checked~div.sk-toggleable__content {max-height: 200px;max-width: 100%;overflow: auto;}#sk-container-id-1 input.sk-toggleable__control:checked~label.sk-toggleable__label-arrow:before {content: \"▾\";}#sk-container-id-1 div.sk-estimator input.sk-toggleable__control:checked~label.sk-toggleable__label {background-color: #d4ebff;}#sk-container-id-1 div.sk-label input.sk-toggleable__control:checked~label.sk-toggleable__label {background-color: #d4ebff;}#sk-container-id-1 input.sk-hidden--visually {border: 0;clip: rect(1px 1px 1px 1px);clip: rect(1px, 1px, 1px, 1px);height: 1px;margin: -1px;overflow: hidden;padding: 0;position: absolute;width: 1px;}#sk-container-id-1 div.sk-estimator {font-family: monospace;background-color: #f0f8ff;border: 1px dotted black;border-radius: 0.25em;box-sizing: border-box;margin-bottom: 0.5em;}#sk-container-id-1 div.sk-estimator:hover {background-color: #d4ebff;}#sk-container-id-1 div.sk-parallel-item::after {content: \"\";width: 100%;border-bottom: 1px solid gray;flex-grow: 1;}#sk-container-id-1 div.sk-label:hover label.sk-toggleable__label {background-color: #d4ebff;}#sk-container-id-1 div.sk-serial::before {content: \"\";position: absolute;border-left: 1px solid gray;box-sizing: border-box;top: 0;bottom: 0;left: 50%;z-index: 0;}#sk-container-id-1 div.sk-serial {display: flex;flex-direction: column;align-items: center;background-color: white;padding-right: 0.2em;padding-left: 0.2em;position: relative;}#sk-container-id-1 div.sk-item {position: relative;z-index: 1;}#sk-container-id-1 div.sk-parallel {display: flex;align-items: stretch;justify-content: center;background-color: white;position: relative;}#sk-container-id-1 div.sk-item::before, #sk-container-id-1 div.sk-parallel-item::before {content: \"\";position: absolute;border-left: 1px solid gray;box-sizing: border-box;top: 0;bottom: 0;left: 50%;z-index: -1;}#sk-container-id-1 div.sk-parallel-item {display: flex;flex-direction: column;z-index: 1;position: relative;background-color: white;}#sk-container-id-1 div.sk-parallel-item:first-child::after {align-self: flex-end;width: 50%;}#sk-container-id-1 div.sk-parallel-item:last-child::after {align-self: flex-start;width: 50%;}#sk-container-id-1 div.sk-parallel-item:only-child::after {width: 0;}#sk-container-id-1 div.sk-dashed-wrapped {border: 1px dashed gray;margin: 0 0.4em 0.5em 0.4em;box-sizing: border-box;padding-bottom: 0.4em;background-color: white;}#sk-container-id-1 div.sk-label label {font-family: monospace;font-weight: bold;display: inline-block;line-height: 1.2em;}#sk-container-id-1 div.sk-label-container {text-align: center;}#sk-container-id-1 div.sk-container {/* jupyter's `normalize.less` sets `[hidden] { display: none; }` but bootstrap.min.css set `[hidden] { display: none !important; }` so we also need the `!important` here to be able to override the default hidden behavior on the sphinx rendered scikit-learn.org. See: https://github.com/scikit-learn/scikit-learn/issues/21755 */display: inline-block !important;position: relative;}#sk-container-id-1 div.sk-text-repr-fallback {display: none;}</style><div id=\"sk-container-id-1\" class=\"sk-top-container\"><div class=\"sk-text-repr-fallback\"><pre>KNeighborsClassifier(n_neighbors=1)</pre><b>In a Jupyter environment, please rerun this cell to show the HTML representation or trust the notebook. <br />On GitHub, the HTML representation is unable to render, please try loading this page with nbviewer.org.</b></div><div class=\"sk-container\" hidden><div class=\"sk-item\"><div class=\"sk-estimator sk-toggleable\"><input class=\"sk-toggleable__control sk-hidden--visually\" id=\"sk-estimator-id-1\" type=\"checkbox\" checked><label for=\"sk-estimator-id-1\" class=\"sk-toggleable__label sk-toggleable__label-arrow\">KNeighborsClassifier</label><div class=\"sk-toggleable__content\"><pre>KNeighborsClassifier(n_neighbors=1)</pre></div></div></div></div></div>"
      ],
      "text/plain": [
       "KNeighborsClassifier(n_neighbors=1)"
      ]
     },
     "execution_count": 17,
     "metadata": {},
     "output_type": "execute_result"
    }
   ],
   "source": [
    "modeloFinal.fit(treinoData, treinoLabels)"
   ]
  },
  {
   "cell_type": "code",
   "execution_count": 18,
   "id": "7fc31f3d",
   "metadata": {},
   "outputs": [],
   "source": [
    "predictions = modeloFinal.predict(testeData.values)"
   ]
  },
  {
   "cell_type": "code",
   "execution_count": 19,
   "id": "a1b78054",
   "metadata": {},
   "outputs": [
    {
     "name": "stdout",
     "output_type": "stream",
     "text": [
      "Avaliação Modelo Dados teste\n",
      "              precision    recall  f1-score   support\n",
      "\n",
      "           0       0.97      1.00      0.98      1223\n",
      "           1       0.97      0.99      0.98      1387\n",
      "           2       0.98      0.96      0.97      1273\n",
      "           3       0.95      0.96      0.96      1315\n",
      "           4       0.97      0.96      0.96      1210\n",
      "           5       0.95      0.95      0.95      1202\n",
      "           6       0.98      0.98      0.98      1245\n",
      "           7       0.96      0.97      0.97      1308\n",
      "           8       0.98      0.92      0.95      1212\n",
      "           9       0.93      0.95      0.94      1225\n",
      "\n",
      "    accuracy                           0.96     12600\n",
      "   macro avg       0.96      0.96      0.96     12600\n",
      "weighted avg       0.96      0.96      0.96     12600\n",
      "\n"
     ]
    }
   ],
   "source": [
    "print('Avaliação Modelo Dados teste')\n",
    "print(classification_report(testeLabels, predictions))"
   ]
  },
  {
   "cell_type": "code",
   "execution_count": 20,
   "id": "9f66ef1e",
   "metadata": {},
   "outputs": [
    {
     "name": "stdout",
     "output_type": "stream",
     "text": [
      "Confusion Matrix\n",
      "[[1217    0    1    1    0    2    1    0    0    1]\n",
      " [   0 1376    5    0    1    0    1    3    1    0]\n",
      " [   9    5 1228    4    2    1    1   14    5    4]\n",
      " [   2    2   12 1262    0   16    0    8    5    8]\n",
      " [   2    9    0    0 1157    1    3    7    0   31]\n",
      " [   3    1    2   24    0 1142   16    1    4    9]\n",
      " [   8    3    2    0    4    7 1220    0    1    0]\n",
      " [   1   11    1    2    2    0    0 1271    0   20]\n",
      " [   3   12    7   22    2   26    3    2 1117   18]\n",
      " [   5    1    1    9   24    2    1   20    2 1160]]\n"
     ]
    }
   ],
   "source": [
    "print('Confusion Matrix')\n",
    "print(confusion_matrix(testeLabels, predictions))"
   ]
  },
  {
   "cell_type": "code",
   "execution_count": 21,
   "id": "72fd52a8",
   "metadata": {},
   "outputs": [
    {
     "name": "stdout",
     "output_type": "stream",
     "text": [
      "Este dígito pode ser: 6\n"
     ]
    },
    {
     "data": {
      "image/png": "[encoded data removed]",
      "text/plain": [
       "<Figure size 640x480 with 1 Axes>"
      ]
     },
     "metadata": {},
     "output_type": "display_data"
    },
    {
     "name": "stdout",
     "output_type": "stream",
     "text": [
      "Este dígito pode ser: 3\n"
     ]
    },
    {
     "data": {
      "image/png": "[encoded data removed]",
      "text/plain": [
       "<Figure size 640x480 with 1 Axes>"
      ]
     },
     "metadata": {},
     "output_type": "display_data"
    },
    {
     "name": "stdout",
     "output_type": "stream",
     "text": [
      "Este dígito pode ser: 7\n"
     ]
    },
    {
     "data": {
      "image/png": "[encoded data removed]",
      "text/plain": [
       "<Figure size 640x480 with 1 Axes>"
      ]
     },
     "metadata": {},
     "output_type": "display_data"
    },
    {
     "name": "stdout",
     "output_type": "stream",
     "text": [
      "Este dígito pode ser: 0\n"
     ]
    },
    {
     "data": {
      "image/png": "[encoded data removed]",
      "text/plain": [
       "<Figure size 640x480 with 1 Axes>"
      ]
     },
     "metadata": {},
     "output_type": "display_data"
    },
    {
     "name": "stdout",
     "output_type": "stream",
     "text": [
      "Este dígito pode ser: 6\n"
     ]
    },
    {
     "data": {
      "image/png": "[encoded data removed]",
      "text/plain": [
       "<Figure size 640x480 with 1 Axes>"
      ]
     },
     "metadata": {},
     "output_type": "display_data"
    }
   ],
   "source": [
    "for i in np.random.randint(0, high=len(testeLabels), size=(5,)):\n",
    "    \n",
    "    image = testeData.iloc[[i]]\n",
    "    predictions = modeloFinal.predict(image.values)[0]\n",
    "    \n",
    "    imgdata = np.array(image, dtype='float')\n",
    "    pixels = imgdata.reshape ((28,28))\n",
    "    plt.imshow(pixels, cmap='gray')\n",
    "    plt.annotate(predictions, (3,3), bbox={'facecolor':'white'}, fontsize=16)\n",
    "    print(f'Este dígito pode ser: {predictions}')\n",
    "    plt.show()"
   ]
  },
  {
   "cell_type": "markdown",
   "id": "2f0634ec",
   "metadata": {},
   "source": [
    "Dataset Test\n"
   ]
  },
  {
   "cell_type": "code",
   "execution_count": 22,
   "id": "6be0c0e7",
   "metadata": {},
   "outputs": [
    {
     "name": "stdout",
     "output_type": "stream",
     "text": [
      "(28000, 784)\n"
     ]
    }
   ],
   "source": [
    "digitos_test = pd.read_csv('test.csv', sep=',')\n",
    "\n",
    "print(digitos_test.shape)"
   ]
  },
  {
   "cell_type": "code",
   "execution_count": 23,
   "id": "8e27dece",
   "metadata": {},
   "outputs": [
    {
     "name": "stdout",
     "output_type": "stream",
     "text": [
      "(28000, 2)\n"
     ]
    }
   ],
   "source": [
    "testLabel = pd.read_csv('sample_submission.csv', sep=',')\n",
    "\n",
    "print(testLabel.shape)"
   ]
  },
  {
   "cell_type": "code",
   "execution_count": 24,
   "id": "31c870f8",
   "metadata": {},
   "outputs": [
    {
     "name": "stdout",
     "output_type": "stream",
     "text": [
      "(28000, 1)\n"
     ]
    }
   ],
   "source": [
    "y_label_teste = testLabel.iloc[:,:1]\n",
    "\n",
    "print(y_label_teste.shape)"
   ]
  },
  {
   "cell_type": "code",
   "execution_count": 31,
   "id": "881ad94b",
   "metadata": {},
   "outputs": [
    {
     "name": "stdout",
     "output_type": "stream",
     "text": [
      "Este dígito pode ser: 2\n"
     ]
    },
    {
     "data": {
      "image/png": "[encoded data removed]",
      "text/plain": [
       "<Figure size 640x480 with 1 Axes>"
      ]
     },
     "metadata": {},
     "output_type": "display_data"
    },
    {
     "name": "stdout",
     "output_type": "stream",
     "text": [
      "Este dígito pode ser: 6\n"
     ]
    },
    {
     "data": {
      "image/png": "[encoded data removed]",
      "text/plain": [
       "<Figure size 640x480 with 1 Axes>"
      ]
     },
     "metadata": {},
     "output_type": "display_data"
    },
    {
     "name": "stdout",
     "output_type": "stream",
     "text": [
      "Este dígito pode ser: 7\n"
     ]
    },
    {
     "data": {
      "image/png": "[encoded data removed]",
      "text/plain": [
       "<Figure size 640x480 with 1 Axes>"
      ]
     },
     "metadata": {},
     "output_type": "display_data"
    },
    {
     "name": "stdout",
     "output_type": "stream",
     "text": [
      "Este dígito pode ser: 8\n"
     ]
    },
    {
     "data": {
      "image/png": "[encoded data removed]",
      "text/plain": [
       "<Figure size 640x480 with 1 Axes>"
      ]
     },
     "metadata": {},
     "output_type": "display_data"
    },
    {
     "name": "stdout",
     "output_type": "stream",
     "text": [
      "Este dígito pode ser: 8\n"
     ]
    },
    {
     "data": {
      "image/png": "[encoded data removed]",
      "text/plain": [
       "<Figure size 640x480 with 1 Axes>"
      ]
     },
     "metadata": {},
     "output_type": "display_data"
    }
   ],
   "source": [
    "for i in np.random.randint(0, high=len(y_label_teste), size=(5,)):\n",
    "    \n",
    "    image = digitos_test.iloc[[i]]\n",
    "    predictions = modeloFinal.predict(image.values)[0]\n",
    "    \n",
    "    imgdata = np.array(image, dtype='float')\n",
    "    pixels = imgdata.reshape ((28,28))\n",
    "    plt.imshow(pixels, cmap='gray')\n",
    "    plt.annotate(predictions, (3,3), bbox={'facecolor':'white'}, fontsize=16)\n",
    "    print(f'Este dígito pode ser: {predictions}')\n",
    "   \n",
    "    plt.show()"
   ]
  },
  {
   "cell_type": "code",
   "execution_count": 33,
   "id": "6746477d",
   "metadata": {},
   "outputs": [],
   "source": [
    "for i in range(len(y_label_teste)):\n",
    "    number = digitos_test.iloc[[i]]\n",
    "    predictions = modeloFinal.predict(number.values)[0]\n",
    "    testLabel.iloc[i, 1] = predictions\n",
    "\n",
    "testLabel.to_csv('sample_submission.csv', index=False)"
   ]
  },
  {
   "cell_type": "code",
   "execution_count": null,
   "id": "d00f894a",
   "metadata": {},
   "outputs": [],
   "source": []
  }
 ],
 "metadata": {
  "kernelspec": {
   "display_name": "Python 3 (ipykernel)",
   "language": "python",
   "name": "python3"
  },
  "language_info": {
   "codemirror_mode": {
    "name": "ipython",
    "version": 3
   },
   "file_extension": ".py",
   "mimetype": "text/x-python",
   "name": "python",
   "nbconvert_exporter": "python",
   "pygments_lexer": "ipython3",
   "version": "3.11.5"
  }
 },
 "nbformat": 4,
 "nbformat_minor": 5
}
